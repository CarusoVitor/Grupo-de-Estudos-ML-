{
 "cells": [
  {
   "cell_type": "code",
   "execution_count": 6,
   "metadata": {
    "collapsed": true
   },
   "outputs": [],
   "source": [
    "import numpy as np\n",
    "import torch\n",
    "import torch.nn as nn\n",
    "from torchvision import transforms, datasets\n",
    "from torch.utils.data import DataLoader\n",
    "import matplotlib.pyplot as plt\n",
    "import torch.optim as optim\n"
   ]
  },
  {
   "cell_type": "code",
   "execution_count": 7,
   "outputs": [],
   "source": [
    "if torch.cuda.is_available():\n",
    "    device = torch.device(\"cuda\")\n",
    "else:\n",
    "    device = torch.device(\"cpu\")\n",
    "\n",
    "transform = transforms.Compose(\n",
    "    [transforms.ToTensor(),\n",
    "    # transforms.Resize((28,28)),\n",
    "    # transforms.Grayscale(),\n",
    "    transforms.Normalize(0.5, 0.5)])\n",
    "\n",
    "batch_size = 1\n",
    "\n",
    "trainset = datasets.MNIST(root='./data', train=True, transform=transform)\n",
    "trainloader = DataLoader(trainset, batch_size=1,\n",
    "                                          shuffle=True, num_workers=2)\n",
    "\n",
    "testset = datasets.MNIST(root='./data', train=False, transform=transform)\n",
    "testloader = DataLoader(testset, batch_size=1,\n",
    "                                         shuffle=False, num_workers=2)"
   ],
   "metadata": {
    "collapsed": false,
    "pycharm": {
     "name": "#%%\n"
    }
   }
  },
  {
   "cell_type": "code",
   "execution_count": 8,
   "outputs": [
    {
     "data": {
      "text/plain": "<Figure size 432x288 with 1 Axes>",
      "image/png": "[encoded data removed]"
     },
     "metadata": {
      "needs_background": "light"
     },
     "output_type": "display_data"
    },
    {
     "name": "stdout",
     "output_type": "stream",
     "text": [
      "Classe esperada: 0\n"
     ]
    }
   ],
   "source": [
    "def showImage(image, label):\n",
    "    fig = plt.figure\n",
    "    plt.imshow(image.squeeze(), cmap='gray')\n",
    "    plt.show()\n",
    "    print(f'Classe esperada: {label}')\n",
    "\n",
    "# pick a sample to plot\n",
    "sample = 1\n",
    "showImage(*trainset[sample]) # plot the sample\n"
   ],
   "metadata": {
    "collapsed": false,
    "pycharm": {
     "name": "#%%\n"
    }
   }
  },
  {
   "cell_type": "code",
   "execution_count": 9,
   "outputs": [],
   "source": [
    "class NeuralNet(nn.Module):\n",
    "    def __init__(self):\n",
    "        super(NeuralNet, self).__init__()\n",
    "        self.fc1 = nn.Linear(28*28, 64) # input layer\n",
    "        self.fc2 = nn.Linear(64, 64) # hidden layer\n",
    "        self.fc3 = nn.Linear(64, 10) # output layer\n",
    "        self.sigmoid = nn.Sigmoid()\n",
    "\n",
    "    def forward(self, x, debug=False):\n",
    "        # prepara imagem\n",
    "        if debug: print(f'Input shape before flatten: {x.shape}')\n",
    "        # x = torch.flatten(x)\n",
    "        x = x.view(x.shape[0], -1)\n",
    "        if debug: print(f'Input shape after flatten: {x.shape}')\n",
    "\n",
    "        # define sequencia do forward\n",
    "        x = torch.sigmoid(self.fc1(x)) # passa pela input layer\n",
    "        x = torch.sigmoid(self.fc2(x)) # passa pela hidden layer\n",
    "        x = torch.sigmoid(self.fc3(x)) # passa pela output layer\n",
    "        return x"
   ],
   "metadata": {
    "collapsed": false,
    "pycharm": {
     "name": "#%%\n"
    }
   }
  },
  {
   "cell_type": "code",
   "execution_count": 10,
   "outputs": [
    {
     "name": "stdout",
     "output_type": "stream",
     "text": [
      "NeuralNet(\n",
      "  (fc1): Linear(in_features=784, out_features=64, bias=True)\n",
      "  (fc2): Linear(in_features=64, out_features=64, bias=True)\n",
      "  (fc3): Linear(in_features=64, out_features=10, bias=True)\n",
      "  (sigmoid): Sigmoid()\n",
      ")\n"
     ]
    },
    {
     "data": {
      "text/plain": "<Figure size 432x288 with 1 Axes>",
      "image/png": "[encoded data removed]"
     },
     "metadata": {
      "needs_background": "light"
     },
     "output_type": "display_data"
    },
    {
     "name": "stdout",
     "output_type": "stream",
     "text": [
      "Classe esperada: 3\n"
     ]
    }
   ],
   "source": [
    "net = NeuralNet().to(device)\n",
    "print(net)\n",
    "\n",
    "index = np.random.randint(low=0, high=len(trainset))\n",
    "test_image = trainset[index]\n",
    "output = net(test_image[0].to(device))\n",
    "\n",
    "# print(f'Output:\\t{output}\\n')\n",
    "\n",
    "showImage(*test_image)\n",
    "# print(f'Classe prevista: {output.argmax()}')"
   ],
   "metadata": {
    "collapsed": false,
    "pycharm": {
     "name": "#%%\n"
    }
   }
  },
  {
   "cell_type": "code",
   "execution_count": 11,
   "outputs": [],
   "source": [
    "epochs = 10\n",
    "lr = .003\n",
    "\n",
    "loss_fn = nn.CrossEntropyLoss()\n",
    "optimizer = optim.Adam(net.parameters(), lr)"
   ],
   "metadata": {
    "collapsed": false,
    "pycharm": {
     "name": "#%%\n"
    }
   }
  },
  {
   "cell_type": "code",
   "execution_count": null,
   "outputs": [
    {
     "name": "stdout",
     "output_type": "stream",
     "text": [
      "[1, 20000] Accumulated Loss: 9.173764232575894e-05\n",
      "[1, 40000] Accumulated Loss: 9.020386772930622e-05\n",
      "Loss: 1.7858361708601316 - Epoch: 1\n"
     ]
    }
   ],
   "source": [
    "# # loop de treino\n",
    "for epoch in range(epochs):\n",
    "    total_loss = 0\n",
    "    for i, data in enumerate(trainloader, 0):\n",
    "        inputs, labels = data\n",
    "        inputs = inputs.to(device)\n",
    "        labels = labels.to(device)\n",
    "        optimizer.zero_grad()\n",
    "        y_hat = net(inputs)\n",
    "        loss = loss_fn(y_hat, labels)\n",
    "        loss.backward()\n",
    "        optimizer.step()\n",
    "        total_loss += loss.item()\n",
    "        if i % 20000 == 0 and i > 0:\n",
    "            print(f\"[{epoch+1}, {i:5d}] Accumulated Loss: {total_loss/(20000*i)}\")\n",
    "\n",
    "    print(f\"Loss: {total_loss / len(trainloader)} - Epoch: {epoch + 1}\")"
   ],
   "metadata": {
    "collapsed": false,
    "pycharm": {
     "name": "#%%\n",
     "is_executing": true
    }
   }
  },
  {
   "cell_type": "code",
   "execution_count": null,
   "outputs": [],
   "source": [
    "def check_accuracy(loader, model):\n",
    "    num_correct = 0\n",
    "    num_samples = 0\n",
    "    model.eval()\n",
    "\n",
    "    with torch.no_grad():\n",
    "        for x, y in loader:\n",
    "            x = x.to(device=device)\n",
    "            y = y.to(device=device)\n",
    "            scores = model(x)\n",
    "            _, predictions = scores.max(1)\n",
    "            num_correct += (predictions == y).sum()\n",
    "            num_samples += predictions.size(0)\n",
    "\n",
    "        print(\n",
    "            f\"Got {num_correct} / {num_samples} with accuracy\"\n",
    "            f\" {float(num_correct) / float(num_samples) * 100:.2f}\"\n",
    "        )\n",
    "\n",
    "    model.train()\n",
    "check_accuracy(trainloader, net)\n",
    "check_accuracy(testloader, net)"
   ],
   "metadata": {
    "collapsed": false,
    "pycharm": {
     "name": "#%%\n",
     "is_executing": true
    }
   }
  }
 ],
 "metadata": {
  "kernelspec": {
   "display_name": "Python 3",
   "language": "python",
   "name": "python3"
  },
  "language_info": {
   "codemirror_mode": {
    "name": "ipython",
    "version": 2
   },
   "file_extension": ".py",
   "mimetype": "text/x-python",
   "name": "python",
   "nbconvert_exporter": "python",
   "pygments_lexer": "ipython2",
   "version": "2.7.6"
  }
 },
 "nbformat": 4,
 "nbformat_minor": 0
}